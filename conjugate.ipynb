{
 "cells": [
  {
   "cell_type": "code",
   "execution_count": 343,
   "metadata": {},
   "outputs": [],
   "source": [
    "import pandas as pd"
   ]
  },
  {
   "cell_type": "code",
   "execution_count": 344,
   "metadata": {},
   "outputs": [],
   "source": [
    "columns = ['Singular','Dual','Plural']\n",
    "index = ['First','Second','Third']"
   ]
  },
  {
   "cell_type": "code",
   "execution_count": 345,
   "metadata": {},
   "outputs": [],
   "source": [
    "def conjugate(verb, verb_class):\n",
    "    vowels = [\"a\", \"ī\"]\n",
    "    guna = [\"a\", \"e\"]\n",
    "    if verb_class == \"1\" or verb_class == \"I\":\n",
    "        first = [\"āmi\", \"āvaḥ\", \"āmaḥ\"]\n",
    "        second = [\"asi\", \"athaḥ\", \"atha\"]\n",
    "        third = [\"ati\", \"ataḥ\", \"anti\"]\n",
    "        splitted = list(verb)\n",
    "        vowels = [\"a\", \"ī\", \"ā\", \"i\", \"u\", \"ū\", \"ṛ\", \"ṝ\", \"ḷ\"]\n",
    "        guna = [\"a\", \"e\", \"a\", \"e\", \"o\", \"o\", \"ar\", \"ar\", \"al\"]\n",
    "        for i in range(0, len(splitted)):\n",
    "            if splitted[i] in vowels:\n",
    "                splitted[i] = guna[vowels.index(splitted[i])]\n",
    "        if splitted[len(splitted)-1:][0] == \"e\":\n",
    "            splitted[len(splitted)-1:] = \"ay\"\n",
    "        elif splitted[len(splitted)-1:][0] == \"o\":\n",
    "            splitted[len(splitted)-1:] = \"av\"\n",
    "        elif splitted[len(splitted)-1:][0] == \"ai\":\n",
    "            splitted[len(splitted)-1:] = \"āy\"\n",
    "        together = ''.join(str(x) for x in splitted)\n",
    "        for i in range(0, len(first)):\n",
    "            first[i] = together + first[i]\n",
    "            second[i] = together + second[i]\n",
    "            third[i] = together + third[i]\n",
    "        return(pd.DataFrame([first, second, third], index=index, columns=columns))\n",
    "            \n",
    "    if verb_class == \"6\" or verb_class == \"VI\":\n",
    "        first = [\"āmi\", \"āvaḥ\", \"āmaḥ\"]\n",
    "        second = [\"āsi\", \"āthaḥ\", \"ātha\"]\n",
    "        third = [\"āti\", \"ātaḥ\", \"ānti\"]\n",
    "        chopped = verb[:len(verb)-3]\n",
    "        for i in range(0, len(first)):\n",
    "            first[i] = chopped + first[i]\n",
    "            second[i] = chopped + second[i]\n",
    "            third[i] = chopped + third[i]\n",
    "        return(pd.DataFrame([first, second, third], index=index, columns=columns))"
   ]
  },
  {
   "cell_type": "code",
   "execution_count": 346,
   "metadata": {},
   "outputs": [
    {
     "data": {
      "text/html": [
       "<div>\n",
       "<style scoped>\n",
       "    .dataframe tbody tr th:only-of-type {\n",
       "        vertical-align: middle;\n",
       "    }\n",
       "\n",
       "    .dataframe tbody tr th {\n",
       "        vertical-align: top;\n",
       "    }\n",
       "\n",
       "    .dataframe thead th {\n",
       "        text-align: right;\n",
       "    }\n",
       "</style>\n",
       "<table border=\"1\" class=\"dataframe\">\n",
       "  <thead>\n",
       "    <tr style=\"text-align: right;\">\n",
       "      <th></th>\n",
       "      <th>Singular</th>\n",
       "      <th>Dual</th>\n",
       "      <th>Plural</th>\n",
       "    </tr>\n",
       "  </thead>\n",
       "  <tbody>\n",
       "    <tr>\n",
       "      <th>First</th>\n",
       "      <td>jayāmi</td>\n",
       "      <td>jayāvaḥ</td>\n",
       "      <td>jayāmaḥ</td>\n",
       "    </tr>\n",
       "    <tr>\n",
       "      <th>Second</th>\n",
       "      <td>jayasi</td>\n",
       "      <td>jayathaḥ</td>\n",
       "      <td>jayatha</td>\n",
       "    </tr>\n",
       "    <tr>\n",
       "      <th>Third</th>\n",
       "      <td>jayati</td>\n",
       "      <td>jayataḥ</td>\n",
       "      <td>jayanti</td>\n",
       "    </tr>\n",
       "  </tbody>\n",
       "</table>\n",
       "</div>"
      ],
      "text/plain": [
       "       Singular      Dual   Plural\n",
       "First    jayāmi   jayāvaḥ  jayāmaḥ\n",
       "Second   jayasi  jayathaḥ  jayatha\n",
       "Third    jayati   jayataḥ  jayanti"
      ]
     },
     "execution_count": 346,
     "metadata": {},
     "output_type": "execute_result"
    }
   ],
   "source": [
    "conjugate(\"ji\", \"1\")"
   ]
  },
  {
   "cell_type": "code",
   "execution_count": null,
   "metadata": {},
   "outputs": [],
   "source": []
  }
 ],
 "metadata": {
  "kernelspec": {
   "display_name": "Python 3",
   "language": "python",
   "name": "python3"
  },
  "language_info": {
   "codemirror_mode": {
    "name": "ipython",
    "version": 3
   },
   "file_extension": ".py",
   "mimetype": "text/x-python",
   "name": "python",
   "nbconvert_exporter": "python",
   "pygments_lexer": "ipython3",
   "version": "3.6.4"
  }
 },
 "nbformat": 4,
 "nbformat_minor": 2
}
