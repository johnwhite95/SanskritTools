{
 "cells": [
  {
   "cell_type": "code",
   "execution_count": 5,
   "metadata": {},
   "outputs": [],
   "source": [
    "import sanskrit_tools as st"
   ]
  },
  {
   "cell_type": "code",
   "execution_count": 9,
   "metadata": {},
   "outputs": [
    {
     "data": {
      "text/html": [
       "<div>\n",
       "<style scoped>\n",
       "    .dataframe tbody tr th:only-of-type {\n",
       "        vertical-align: middle;\n",
       "    }\n",
       "\n",
       "    .dataframe tbody tr th {\n",
       "        vertical-align: top;\n",
       "    }\n",
       "\n",
       "    .dataframe thead th {\n",
       "        text-align: right;\n",
       "    }\n",
       "</style>\n",
       "<table border=\"1\" class=\"dataframe\">\n",
       "  <thead>\n",
       "    <tr style=\"text-align: right;\">\n",
       "      <th></th>\n",
       "      <th>case</th>\n",
       "      <th>singular</th>\n",
       "      <th>dual</th>\n",
       "      <th>plural</th>\n",
       "    </tr>\n",
       "  </thead>\n",
       "  <tbody>\n",
       "    <tr>\n",
       "      <th>0</th>\n",
       "      <td>Nom.</td>\n",
       "      <td>datṛ</td>\n",
       "      <td>datṛṇī</td>\n",
       "      <td>datṛṇī</td>\n",
       "    </tr>\n",
       "    <tr>\n",
       "      <th>1</th>\n",
       "      <td>Voc.</td>\n",
       "      <td>datṛ</td>\n",
       "      <td>datṛṇī</td>\n",
       "      <td>datṛṇī</td>\n",
       "    </tr>\n",
       "    <tr>\n",
       "      <th>2</th>\n",
       "      <td>Acc.</td>\n",
       "      <td>datṛ</td>\n",
       "      <td>datṛṇī</td>\n",
       "      <td>datṛṇī</td>\n",
       "    </tr>\n",
       "    <tr>\n",
       "      <th>3</th>\n",
       "      <td>Ins.</td>\n",
       "      <td>datṛṇā</td>\n",
       "      <td>datṛbhyām</td>\n",
       "      <td>datṛbhis</td>\n",
       "    </tr>\n",
       "    <tr>\n",
       "      <th>4</th>\n",
       "      <td>Dat.</td>\n",
       "      <td>datṛṇe</td>\n",
       "      <td>datṛbhyām</td>\n",
       "      <td>datṛbhyas</td>\n",
       "    </tr>\n",
       "    <tr>\n",
       "      <th>5</th>\n",
       "      <td>Abl.</td>\n",
       "      <td>datṛṇas</td>\n",
       "      <td>datṛbhyām</td>\n",
       "      <td>datṛbhyas</td>\n",
       "    </tr>\n",
       "    <tr>\n",
       "      <th>6</th>\n",
       "      <td>Gen.</td>\n",
       "      <td>datṛṇas</td>\n",
       "      <td>datṛṇnos</td>\n",
       "      <td>datṛṇām</td>\n",
       "    </tr>\n",
       "    <tr>\n",
       "      <th>7</th>\n",
       "      <td>Loc.</td>\n",
       "      <td>datṛṇi</td>\n",
       "      <td>datṛṇnos</td>\n",
       "      <td>datṛṣu</td>\n",
       "    </tr>\n",
       "  </tbody>\n",
       "</table>\n",
       "</div>"
      ],
      "text/plain": [
       "   case singular       dual     plural\n",
       "0  Nom.     datṛ     datṛṇī     datṛṇī\n",
       "1  Voc.     datṛ     datṛṇī     datṛṇī\n",
       "2  Acc.     datṛ     datṛṇī     datṛṇī\n",
       "3  Ins.   datṛṇā  datṛbhyām   datṛbhis\n",
       "4  Dat.   datṛṇe  datṛbhyām  datṛbhyas\n",
       "5  Abl.  datṛṇas  datṛbhyām  datṛbhyas\n",
       "6  Gen.  datṛṇas   datṛṇnos    datṛṇām\n",
       "7  Loc.   datṛṇi   datṛṇnos     datṛṣu"
      ]
     },
     "execution_count": 9,
     "metadata": {},
     "output_type": "execute_result"
    }
   ],
   "source": [
    "st.decline(\"datṛ\", \"neut\")"
   ]
  },
  {
   "cell_type": "code",
   "execution_count": 10,
   "metadata": {},
   "outputs": [
    {
     "data": {
      "text/html": [
       "<div>\n",
       "<style scoped>\n",
       "    .dataframe tbody tr th:only-of-type {\n",
       "        vertical-align: middle;\n",
       "    }\n",
       "\n",
       "    .dataframe tbody tr th {\n",
       "        vertical-align: top;\n",
       "    }\n",
       "\n",
       "    .dataframe thead th {\n",
       "        text-align: right;\n",
       "    }\n",
       "</style>\n",
       "<table border=\"1\" class=\"dataframe\">\n",
       "  <thead>\n",
       "    <tr style=\"text-align: right;\">\n",
       "      <th></th>\n",
       "      <th>Singular</th>\n",
       "      <th>Dual</th>\n",
       "      <th>Plural</th>\n",
       "    </tr>\n",
       "  </thead>\n",
       "  <tbody>\n",
       "    <tr>\n",
       "      <th>First</th>\n",
       "      <td>nṛtyami</td>\n",
       "      <td>nṛtyavaḥ</td>\n",
       "      <td>nṛtyamaḥ</td>\n",
       "    </tr>\n",
       "    <tr>\n",
       "      <th>Second</th>\n",
       "      <td>nṛtyasi</td>\n",
       "      <td>nṛtyathaḥ</td>\n",
       "      <td>nṛtyatha</td>\n",
       "    </tr>\n",
       "    <tr>\n",
       "      <th>Third</th>\n",
       "      <td>nṛtyati</td>\n",
       "      <td>nṛtyataḥ</td>\n",
       "      <td>nṛtyanti</td>\n",
       "    </tr>\n",
       "  </tbody>\n",
       "</table>\n",
       "</div>"
      ],
      "text/plain": [
       "       Singular       Dual    Plural\n",
       "First   nṛtyami   nṛtyavaḥ  nṛtyamaḥ\n",
       "Second  nṛtyasi  nṛtyathaḥ  nṛtyatha\n",
       "Third   nṛtyati   nṛtyataḥ  nṛtyanti"
      ]
     },
     "execution_count": 10,
     "metadata": {},
     "output_type": "execute_result"
    }
   ],
   "source": [
    "st.conjugate(\"nṛt\", \"IV\")"
   ]
  },
  {
   "cell_type": "code",
   "execution_count": null,
   "metadata": {},
   "outputs": [],
   "source": []
  },
  {
   "cell_type": "code",
   "execution_count": null,
   "metadata": {},
   "outputs": [],
   "source": []
  }
 ],
 "metadata": {
  "kernelspec": {
   "display_name": "Python 3",
   "language": "python",
   "name": "python3"
  },
  "language_info": {
   "codemirror_mode": {
    "name": "ipython",
    "version": 3
   },
   "file_extension": ".py",
   "mimetype": "text/x-python",
   "name": "python",
   "nbconvert_exporter": "python",
   "pygments_lexer": "ipython3",
   "version": "3.6.4"
  }
 },
 "nbformat": 4,
 "nbformat_minor": 2
}
