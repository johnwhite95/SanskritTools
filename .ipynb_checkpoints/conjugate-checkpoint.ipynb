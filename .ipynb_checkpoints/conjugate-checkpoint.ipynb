{
 "cells": [
  {
   "cell_type": "code",
   "execution_count": 43,
   "metadata": {},
   "outputs": [],
   "source": [
    "import pandas as pd"
   ]
  },
  {
   "cell_type": "code",
   "execution_count": 45,
   "metadata": {},
   "outputs": [],
   "source": [
    "my_verb = \"icchati\""
   ]
  },
  {
   "cell_type": "code",
   "execution_count": 46,
   "metadata": {},
   "outputs": [],
   "source": [
    "my_verb_class = 6"
   ]
  },
  {
   "cell_type": "code",
   "execution_count": 99,
   "metadata": {},
   "outputs": [],
   "source": [
    "outs = [[3, 6, 3], [3, 6, 3], [3, 6, 3]]\n",
    "columns = ['Singular','Dual','Plural']\n",
    "index = ['First','Second','Third']"
   ]
  },
  {
   "cell_type": "code",
   "execution_count": 100,
   "metadata": {},
   "outputs": [
    {
     "data": {
      "text/html": [
       "<div>\n",
       "<style scoped>\n",
       "    .dataframe tbody tr th:only-of-type {\n",
       "        vertical-align: middle;\n",
       "    }\n",
       "\n",
       "    .dataframe tbody tr th {\n",
       "        vertical-align: top;\n",
       "    }\n",
       "\n",
       "    .dataframe thead th {\n",
       "        text-align: right;\n",
       "    }\n",
       "</style>\n",
       "<table border=\"1\" class=\"dataframe\">\n",
       "  <thead>\n",
       "    <tr style=\"text-align: right;\">\n",
       "      <th></th>\n",
       "      <th>Singular</th>\n",
       "      <th>Dual</th>\n",
       "      <th>Plural</th>\n",
       "    </tr>\n",
       "  </thead>\n",
       "  <tbody>\n",
       "    <tr>\n",
       "      <th>First</th>\n",
       "      <td>3</td>\n",
       "      <td>6</td>\n",
       "      <td>3</td>\n",
       "    </tr>\n",
       "    <tr>\n",
       "      <th>Second</th>\n",
       "      <td>3</td>\n",
       "      <td>6</td>\n",
       "      <td>3</td>\n",
       "    </tr>\n",
       "    <tr>\n",
       "      <th>Third</th>\n",
       "      <td>3</td>\n",
       "      <td>6</td>\n",
       "      <td>3</td>\n",
       "    </tr>\n",
       "  </tbody>\n",
       "</table>\n",
       "</div>"
      ],
      "text/plain": [
       "        Singular  Dual  Plural\n",
       "First          3     6       3\n",
       "Second         3     6       3\n",
       "Third          3     6       3"
      ]
     },
     "execution_count": 100,
     "metadata": {},
     "output_type": "execute_result"
    }
   ],
   "source": [
    "pd.DataFrame(outs, index=index, columns=columns)"
   ]
  },
  {
   "cell_type": "code",
   "execution_count": 325,
   "metadata": {},
   "outputs": [],
   "source": [
    "def conjugate(verb, verb_class):\n",
    "    vowels = [\"a\", \"ī\"]\n",
    "    guna = [\"a\", \"e\"]\n",
    "    if verb_class == 1 or verb_class == \"I\":\n",
    "        first = [\"āmi\", \"āvaḥ\", \"āmaḥ\"]\n",
    "        second = [\"asi\", \"athaḥ\", \"atha\"]\n",
    "        third = [\"ati\", \"ataḥ\", \"anti\"]\n",
    "        splitted = list(verb)\n",
    "        vowels = [\"a\", \"ī\", \"ā\", \"i\", \"u\", \"ū\", \"ṛ\", \"ṝ\"]\n",
    "        guna = [\"a\", \"e\", \"a\", \"e\", \"o\", \"o\", \"r\", \"r\"]\n",
    "        for i in range(0, len(splitted)):\n",
    "            if splitted[i] in vowels:\n",
    "                splitted[i] = guna[vowels.index(splitted[i])]\n",
    "        print(splitted)\n",
    "        if splitted[len(splitted)-1:][0] == \"e\":\n",
    "            splitted[len(splitted)-1:] = \"ay\"\n",
    "        elif splitted[len(splitted)-1:][0] == \"o\":\n",
    "            splitted[len(splitted)-1:] = \"av\"\n",
    "        elif splitted[len(splitted)-1:][0] == \"ai\":\n",
    "            splitted[len(splitted)-1:] = \"āy\"\n",
    "        together = ''.join(str(x) for x in splitted)\n",
    "        for i in range(0, len(first)):\n",
    "            first[i] = together + first[i]\n",
    "            second[i] = together + second[i]\n",
    "            third[i] = together + third[i]\n",
    "        return(pd.DataFrame([first, second, third], index=index, columns=columns))\n",
    "            \n",
    "    if verb_class == 6 or verb_class == \"VI\":\n",
    "        first = [\"āmi\", \"āvaḥ\", \"āmaḥ\"]\n",
    "        second = [\"āsi\", \"āthaḥ\", \"ātha\"]\n",
    "        third = [\"āti\", \"ātaḥ\", \"ānti\"]\n",
    "        chopped = verb[:len(verb)-3]\n",
    "        for i in range(0, len(first)):\n",
    "            first[i] = chopped + first[i]\n",
    "            second[i] = chopped + second[i]\n",
    "            third[i] = chopped + third[i]\n",
    "        return(pd.DataFrame([first, second, third], index=index, columns=columns))"
   ]
  },
  {
   "cell_type": "code",
   "execution_count": 326,
   "metadata": {},
   "outputs": [
    {
     "name": "stdout",
     "output_type": "stream",
     "text": [
      "['j', 'i']\n"
     ]
    },
    {
     "data": {
      "text/html": [
       "<div>\n",
       "<style scoped>\n",
       "    .dataframe tbody tr th:only-of-type {\n",
       "        vertical-align: middle;\n",
       "    }\n",
       "\n",
       "    .dataframe tbody tr th {\n",
       "        vertical-align: top;\n",
       "    }\n",
       "\n",
       "    .dataframe thead th {\n",
       "        text-align: right;\n",
       "    }\n",
       "</style>\n",
       "<table border=\"1\" class=\"dataframe\">\n",
       "  <thead>\n",
       "    <tr style=\"text-align: right;\">\n",
       "      <th></th>\n",
       "      <th>Singular</th>\n",
       "      <th>Dual</th>\n",
       "      <th>Plural</th>\n",
       "    </tr>\n",
       "  </thead>\n",
       "  <tbody>\n",
       "    <tr>\n",
       "      <th>First</th>\n",
       "      <td>jiāmi</td>\n",
       "      <td>jiāvaḥ</td>\n",
       "      <td>jiāmaḥ</td>\n",
       "    </tr>\n",
       "    <tr>\n",
       "      <th>Second</th>\n",
       "      <td>jiasi</td>\n",
       "      <td>jiathaḥ</td>\n",
       "      <td>jiatha</td>\n",
       "    </tr>\n",
       "    <tr>\n",
       "      <th>Third</th>\n",
       "      <td>jiati</td>\n",
       "      <td>jiataḥ</td>\n",
       "      <td>jianti</td>\n",
       "    </tr>\n",
       "  </tbody>\n",
       "</table>\n",
       "</div>"
      ],
      "text/plain": [
       "       Singular     Dual  Plural\n",
       "First     jiāmi   jiāvaḥ  jiāmaḥ\n",
       "Second    jiasi  jiathaḥ  jiatha\n",
       "Third     jiati   jiataḥ  jianti"
      ]
     },
     "execution_count": 326,
     "metadata": {},
     "output_type": "execute_result"
    }
   ],
   "source": [
    "conjugate(\"ji\", \"I\")"
   ]
  },
  {
   "cell_type": "code",
   "execution_count": 216,
   "metadata": {},
   "outputs": [],
   "source": [
    "def conjugate(verb, verb_class):\n",
    "    splitted = list(verb)\n",
    "    vowels = [\"a\", \"ī\"]\n",
    "    guna = [\"a\", \"e\"]\n",
    "    for i in range(0, len(splitted)):\n",
    "        if splitted[i] in vowels:\n",
    "            splitted[i] = guna[vowels.index(splitted[i])]\n",
    "            ''.join(str(x) for x in splitted)\n",
    "    return(splitted)"
   ]
  },
  {
   "cell_type": "code",
   "execution_count": 236,
   "metadata": {},
   "outputs": [
    {
     "data": {
      "text/plain": [
       "'ne'"
      ]
     },
     "execution_count": 236,
     "metadata": {},
     "output_type": "execute_result"
    }
   ],
   "source": [
    "conjugate(\"nī\", \"I\")"
   ]
  },
  {
   "cell_type": "code",
   "execution_count": 238,
   "metadata": {},
   "outputs": [],
   "source": [
    "jim = [2, 3, 6, 7]"
   ]
  },
  {
   "cell_type": "code",
   "execution_count": 239,
   "metadata": {},
   "outputs": [
    {
     "data": {
      "text/plain": [
       "[2, 3, 6, 7]"
      ]
     },
     "execution_count": 239,
     "metadata": {},
     "output_type": "execute_result"
    }
   ],
   "source": [
    "jim"
   ]
  },
  {
   "cell_type": "code",
   "execution_count": 240,
   "metadata": {},
   "outputs": [
    {
     "data": {
      "text/plain": [
       "[7]"
      ]
     },
     "execution_count": 240,
     "metadata": {},
     "output_type": "execute_result"
    }
   ],
   "source": [
    "jim[len(jim)-1:]"
   ]
  },
  {
   "cell_type": "code",
   "execution_count": null,
   "metadata": {},
   "outputs": [],
   "source": []
  }
 ],
 "metadata": {
  "kernelspec": {
   "display_name": "Python 3",
   "language": "python",
   "name": "python3"
  },
  "language_info": {
   "codemirror_mode": {
    "name": "ipython",
    "version": 3
   },
   "file_extension": ".py",
   "mimetype": "text/x-python",
   "name": "python",
   "nbconvert_exporter": "python",
   "pygments_lexer": "ipython3",
   "version": "3.6.4"
  }
 },
 "nbformat": 4,
 "nbformat_minor": 2
}
